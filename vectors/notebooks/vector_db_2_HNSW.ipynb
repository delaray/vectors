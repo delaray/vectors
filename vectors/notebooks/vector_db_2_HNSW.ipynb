{
 "cells": [
  {
   "cell_type": "code",
   "execution_count": 2,
   "id": "a1ebb1ba-bda3-47be-9ffa-160c440f6724",
   "metadata": {},
   "outputs": [],
   "source": [
    "from random import random, randint\n",
    "from math import floor, log\n",
    "import networkx as nx\n",
    "import numpy as np\n",
    "import matplotlib as mtplt\n",
    "from matplotlib import pyplot as plt\n",
    "from utils import *\n",
    "\n",
    "vec_num = 40 # Number of vectors (nodes)\n",
    "dim = 2 ## Dimention. Set to be 2. All the graph plots are for dim 2. If changed, then plots should be commented. \n",
    "m_nearest_neighbor = 2 # M Nearest Neigbor used in construction of the Navigable Small World (NSW)\n",
    "\n",
    "vec_pos = np.random.uniform(size=(vec_num, dim))"
   ]
  },
  {
   "cell_type": "code",
   "execution_count": 3,
   "id": "e326a1b0-0743-42a8-a9f4-ddf5184077c3",
   "metadata": {},
   "outputs": [
    {
     "name": "stdout",
     "output_type": "stream",
     "text": [
      "nodes =  [('Q', {'pos': [0.5, 0.5]})]\n"
     ]
    }
   ],
   "source": [
    "## Query\n",
    "query_vec = [0.5, 0.5]\n",
    "\n",
    "nodes = []\n",
    "nodes.append((\"Q\",{\"pos\": query_vec}))\n",
    "\n",
    "G_query = nx.Graph()\n",
    "G_query.add_nodes_from(nodes)\n",
    "\n",
    "print(\"nodes = \", nodes, flush=True)\n",
    "\n",
    "pos_query=nx.get_node_attributes(G_query,'pos')"
   ]
  },
  {
   "cell_type": "code",
   "execution_count": 4,
   "id": "520cd80d-866e-454a-9562-8546bbc3bf6c",
   "metadata": {},
   "outputs": [
    {
     "ename": "NameError",
     "evalue": "name 'nearest_neigbor' is not defined",
     "output_type": "error",
     "traceback": [
      "\u001b[0;31m---------------------------------------------------------------------------\u001b[0m",
      "\u001b[0;31mNameError\u001b[0m                                 Traceback (most recent call last)",
      "Cell \u001b[0;32mIn[4], line 1\u001b[0m\n\u001b[0;32m----> 1\u001b[0m (G_lin, G_best) \u001b[38;5;241m=\u001b[39m \u001b[43mnearest_neigbor\u001b[49m(vec_pos,query_vec)\n\u001b[1;32m      3\u001b[0m pos_lin\u001b[38;5;241m=\u001b[39mnx\u001b[38;5;241m.\u001b[39mget_node_attributes(G_lin,\u001b[38;5;124m'\u001b[39m\u001b[38;5;124mpos\u001b[39m\u001b[38;5;124m'\u001b[39m)\n\u001b[1;32m      4\u001b[0m pos_best\u001b[38;5;241m=\u001b[39mnx\u001b[38;5;241m.\u001b[39mget_node_attributes(G_best,\u001b[38;5;124m'\u001b[39m\u001b[38;5;124mpos\u001b[39m\u001b[38;5;124m'\u001b[39m)\n",
      "\u001b[0;31mNameError\u001b[0m: name 'nearest_neigbor' is not defined"
     ]
    }
   ],
   "source": [
    "(G_lin, G_best) = nearest_neigbor(vec_pos,query_vec)\n",
    "\n",
    "pos_lin=nx.get_node_attributes(G_lin,'pos')\n",
    "pos_best=nx.get_node_attributes(G_best,'pos')\n",
    "\n",
    "fig, axs = plt.subplots()\n",
    "\n",
    "nx.draw(G_lin, pos_lin, with_labels=True, node_size=150, node_color=[[0.8,0.8,1]], width=0.0, font_size=7, ax = axs)\n",
    "nx.draw(G_query, pos_query, with_labels=True, node_size=200, node_color=[[0.5,0,0]], font_color='white', width=0.5, font_size=7, font_weight='bold', ax = axs)\n",
    "nx.draw(G_best, pos_best, with_labels=True, node_size=200, node_color=[[0.85,0.7,0.2]], width=0.5, font_size=7, font_weight='bold', ax = axs)"
   ]
  },
  {
   "cell_type": "code",
   "execution_count": null,
   "id": "7dc0dd63-ca42-4dee-a4b2-d26d35601ac4",
   "metadata": {},
   "outputs": [],
   "source": []
  }
 ],
 "metadata": {
  "kernelspec": {
   "display_name": "Python 3 (ipykernel)",
   "language": "python",
   "name": "python3"
  },
  "language_info": {
   "codemirror_mode": {
    "name": "ipython",
    "version": 3
   },
   "file_extension": ".py",
   "mimetype": "text/x-python",
   "name": "python",
   "nbconvert_exporter": "python",
   "pygments_lexer": "ipython3",
   "version": "3.10.13"
  }
 },
 "nbformat": 4,
 "nbformat_minor": 5
}
