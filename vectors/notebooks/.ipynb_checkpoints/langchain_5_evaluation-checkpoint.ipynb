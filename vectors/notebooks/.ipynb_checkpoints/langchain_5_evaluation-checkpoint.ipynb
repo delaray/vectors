{
 "cells": [
  {
   "cell_type": "markdown",
   "id": "cbe5ea1d-9e62-40c2-9a6d-7279ee7a956a",
   "metadata": {},
   "source": [
    "# LangChain: Evaluation\n",
    "## Outline:\n",
    "- Example generation\n",
    "- Manual evaluation (and debuging)\n",
    "- LLM-assisted evaluation\n",
    "- LangChain evaluation platform"
   ]
  },
  {
   "cell_type": "code",
   "execution_count": null,
   "id": "c1fac84d-90fd-4bf2-babc-42e3f3229fc8",
   "metadata": {},
   "outputs": [],
   "source": []
  }
 ],
 "metadata": {
  "kernelspec": {
   "display_name": "Python 3 (ipykernel)",
   "language": "python",
   "name": "python3"
  },
  "language_info": {
   "codemirror_mode": {
    "name": "ipython",
    "version": 3
   },
   "file_extension": ".py",
   "mimetype": "text/x-python",
   "name": "python",
   "nbconvert_exporter": "python",
   "pygments_lexer": "ipython3",
   "version": "3.10.13"
  }
 },
 "nbformat": 4,
 "nbformat_minor": 5
}
